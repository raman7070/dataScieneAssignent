{
 "cells": [
  {
   "cell_type": "code",
   "execution_count": 3,
   "id": "0c940938-3aaa-4cfb-829e-ca57594b6651",
   "metadata": {
    "tags": []
   },
   "outputs": [
    {
     "name": "stdout",
     "output_type": "stream",
     "text": [
      "1\n",
      "2\n",
      "3\n",
      "4\n",
      "5\n",
      "6\n",
      "7\n",
      "8\n",
      "9\n",
      "10\n",
      "1\n",
      "2\n",
      "3\n",
      "4\n",
      "5\n",
      "6\n",
      "7\n",
      "8\n",
      "9\n",
      "10\n"
     ]
    }
   ],
   "source": [
    "#question1\n",
    "# Use a for when we have know definetive set of iteration\n",
    "for i in range(1, 11):\n",
    "    print(i)\n",
    "# Use a while loop when we have a condition to met\n",
    "counter = 1\n",
    "while counter <= 10:\n",
    "    print(counter)\n",
    "    counter += 1"
   ]
  },
  {
   "cell_type": "code",
   "execution_count": 5,
   "id": "cb9bb00b-d04e-46d4-9b98-d42a3c86a5df",
   "metadata": {},
   "outputs": [
    {
     "name": "stdout",
     "output_type": "stream",
     "text": [
      "Sum of first 10 natural numbers: 55\n",
      "Product of first 10 natural numbers: 3628800\n",
      "Sum of first 10 natural numbers: 55\n",
      "Product of first 10 natural numbers: 3628800\n"
     ]
    }
   ],
   "source": [
    "# question 2\n",
    "# Using for loop to find sum and product of first 10 natural numbers\n",
    "sum = 0\n",
    "product = 1\n",
    "for i in range(1, 11):\n",
    "    sum += i\n",
    "    product *= i\n",
    "\n",
    "print(\"Sum of first 10 natural numbers:\", sum)\n",
    "print(\"Product of first 10 natural numbers:\", product)\n",
    "# Using while loop to find sum and product of first 10 natural numbers\n",
    "sum = 0\n",
    "product = 1\n",
    "counter = 1\n",
    "while counter <= 10:\n",
    "    sum += counter\n",
    "    product *= counter\n",
    "    counter += 1\n",
    "\n",
    "print(\"Sum of first 10 natural numbers:\", sum)\n",
    "print(\"Product of first 10 natural numbers:\", product)"
   ]
  },
  {
   "cell_type": "code",
   "execution_count": 8,
   "id": "4884ac81-4d50-4b2d-a6de-eac186d2c0ba",
   "metadata": {},
   "outputs": [
    {
     "name": "stdin",
     "output_type": "stream",
     "text": [
      "Enter the number of units consumed:  310\n"
     ]
    },
    {
     "name": "stdout",
     "output_type": "stream",
     "text": [
      "The total bill amount is: Rs. 2250.0\n"
     ]
    }
   ],
   "source": [
    "#question 3\n",
    "def calculate_electricity_bill(units):\n",
    "    bill = 0\n",
    "    if units <= 100:\n",
    "        bill = units * 4.5\n",
    "    elif units <= 200:\n",
    "        bill = 100 * 4.5 + (units - 100) * 6\n",
    "    elif units <= 300:\n",
    "        bill = 100 * 4.5 + 100 * 6 + (units - 200) * 10\n",
    "    else:\n",
    "        bill = 100 * 4.5 + 100 * 6 + 100 * 10 + (units - 300) * 20\n",
    "    return bill\n",
    "\n",
    "units= int(input(\"Enter the number of units consumed: \"))\n",
    "amount = calculate_electricity_bill(units)\n",
    "print(\"The total bill amount is: Rs.\", amount)\n"
   ]
  },
  {
   "cell_type": "code",
   "execution_count": 9,
   "id": "8ad86c18-be74-4256-ad68-b65f5c3a25bb",
   "metadata": {},
   "outputs": [
    {
     "name": "stdout",
     "output_type": "stream",
     "text": [
      "List of cubes divisible by 4 or 5: [8, 64, 125, 216, 512, 1000, 1728, 2744, 3375, 4096, 5832, 8000, 10648, 13824, 15625, 17576, 21952, 27000, 32768, 39304, 42875, 46656, 54872, 64000, 74088, 85184, 91125, 97336, 110592, 125000, 140608, 157464, 166375, 175616, 195112, 216000, 238328, 262144, 274625, 287496, 314432, 343000, 373248, 405224, 421875, 438976, 474552, 512000, 551368, 592704, 614125, 636056, 681472, 729000, 778688, 830584, 857375, 884736, 941192, 1000000]\n"
     ]
    }
   ],
   "source": [
    "#question 4\n",
    "# Using for loop to calculate cubes of numbers and store if divisible by 4 or 5\n",
    "cubes = []\n",
    "for i in range(1, 101):\n",
    "    cube = i**3\n",
    "    if cube % 4 == 0 or cube % 5 == 0:\n",
    "        cubes.append(cube)\n",
    "\n",
    "print(\"List of cubes divisible by 4 or 5:\", cubes)\n"
   ]
  },
  {
   "cell_type": "code",
   "execution_count": null,
   "id": "522dc9ba-24cd-45fc-939e-deaaf0e7d9ee",
   "metadata": {},
   "outputs": [],
   "source": []
  }
 ],
 "metadata": {
  "kernelspec": {
   "display_name": "Python 3 (ipykernel)",
   "language": "python",
   "name": "python3"
  },
  "language_info": {
   "codemirror_mode": {
    "name": "ipython",
    "version": 3
   },
   "file_extension": ".py",
   "mimetype": "text/x-python",
   "name": "python",
   "nbconvert_exporter": "python",
   "pygments_lexer": "ipython3",
   "version": "3.10.8"
  }
 },
 "nbformat": 4,
 "nbformat_minor": 5
}
